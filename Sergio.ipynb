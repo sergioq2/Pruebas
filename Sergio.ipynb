{
 "metadata": {
  "language_info": {
   "codemirror_mode": {
    "name": "ipython",
    "version": 3
   },
   "file_extension": ".py",
   "mimetype": "text/x-python",
   "name": "python",
   "nbconvert_exporter": "python",
   "pygments_lexer": "ipython3",
   "version": "3.7.6"
  },
  "orig_nbformat": 2,
  "kernelspec": {
   "name": "python376jvsc74a57bd077f9f1fe1d5a041b876d27dcc8e2660da7714949d3cbb63481fdb4fdc0dc4274",
   "display_name": "Python 3.7.6 64-bit"
  }
 },
 "nbformat": 4,
 "nbformat_minor": 2,
 "cells": [
  {
   "cell_type": "code",
   "execution_count": 1,
   "metadata": {},
   "outputs": [
    {
     "output_type": "stream",
     "name": "stdout",
     "text": [
      "Sergio Quintero\nSergio Quintero\nSergio Quintero\nSergio Quintero\nSergio Quintero\nSergio Quintero\nSergio Quintero\nSergio Quintero\nSergio Quintero\nSergio Quintero\n"
     ]
    }
   ],
   "source": [
    "for i in range(10):\n",
    "    print(\"Sergio Quintero\")"
   ]
  }
 ]
}